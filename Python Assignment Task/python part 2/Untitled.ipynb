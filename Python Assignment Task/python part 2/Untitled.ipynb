{
 "cells": [
  {
   "cell_type": "code",
   "execution_count": 5,
   "id": "1fe6ce35-5d1f-4f6d-bb08-f4606ebc304a",
   "metadata": {},
   "outputs": [
    {
     "name": "stdout",
     "output_type": "stream",
     "text": [
      "Values written to result90.txt\n"
     ]
    }
   ],
   "source": [
    "import os\n",
    "def extract_values_and_write():\n",
    "    directory = '/Users/srajuv/Desktop/Python-GD-Assignments/python part 2/files'\n",
    "    output_file = 'result90.txt'\n",
    "    values = []\n",
    "    for filename in os.listdir(directory):\n",
    "        file_path = os.path.join(directory, filename)\n",
    "        if os.path.isfile(file_path):\n",
    "            with open(file_path, 'r') as f:\n",
    "                content = f.read().strip()\n",
    "                values.append(content)\n",
    "    with open(output_file, 'w') as output:\n",
    "        output.write(', '.join(values))\n",
    "    print(f\"Values written to {output_file}\")\n",
    "extract_values_and_write()"
   ]
  },
  {
   "cell_type": "code",
   "execution_count": 4,
   "id": "f17e4f39-a7dd-4b92-b3d7-81062200ef7d",
   "metadata": {},
   "outputs": [
    {
     "data": {
      "text/plain": [
       "'/Users/srajuv/Desktop/Python-GD-Assignments/python part 2'"
      ]
     },
     "execution_count": 4,
     "metadata": {},
     "output_type": "execute_result"
    }
   ],
   "source": [
    "pwd\n"
   ]
  },
  {
   "cell_type": "code",
   "execution_count": null,
   "id": "b7b2d63f-d520-4d4a-9aea-a2ecae819959",
   "metadata": {},
   "outputs": [],
   "source": []
  },
  {
   "cell_type": "code",
   "execution_count": null,
   "id": "2293e9b6-5001-4342-ae76-a74e83b8621a",
   "metadata": {},
   "outputs": [],
   "source": []
  },
  {
   "cell_type": "code",
   "execution_count": null,
   "id": "2972ebf1-f179-4af8-823f-e93b6003eebf",
   "metadata": {},
   "outputs": [],
   "source": []
  },
  {
   "cell_type": "code",
   "execution_count": null,
   "id": "39234bce-5caa-4ec9-8e44-8eedc5f09132",
   "metadata": {},
   "outputs": [],
   "source": []
  },
  {
   "cell_type": "code",
   "execution_count": null,
   "id": "3877a508-afec-452a-a47f-31b7a70c9a27",
   "metadata": {},
   "outputs": [],
   "source": []
  },
  {
   "cell_type": "code",
   "execution_count": null,
   "id": "be947f16-762a-46c5-9fad-2ef45affd36d",
   "metadata": {},
   "outputs": [],
   "source": []
  },
  {
   "cell_type": "code",
   "execution_count": null,
   "id": "e7c76be9-102c-498b-b09d-ec7cd1d7d6be",
   "metadata": {},
   "outputs": [],
   "source": []
  },
  {
   "cell_type": "code",
   "execution_count": null,
   "id": "fd676208-67d4-47d2-a6e0-1aa5a789c13e",
   "metadata": {},
   "outputs": [],
   "source": []
  },
  {
   "cell_type": "code",
   "execution_count": null,
   "id": "e68fb700-5066-4203-9af6-335f1e79a052",
   "metadata": {},
   "outputs": [],
   "source": []
  }
 ],
 "metadata": {
  "kernelspec": {
   "display_name": "Python 3 (ipykernel)",
   "language": "python",
   "name": "python3"
  },
  "language_info": {
   "codemirror_mode": {
    "name": "ipython",
    "version": 3
   },
   "file_extension": ".py",
   "mimetype": "text/x-python",
   "name": "python",
   "nbconvert_exporter": "python",
   "pygments_lexer": "ipython3",
   "version": "3.12.6"
  }
 },
 "nbformat": 4,
 "nbformat_minor": 5
}
